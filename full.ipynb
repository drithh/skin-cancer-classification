{
 "cells": [
  {
   "cell_type": "code",
   "execution_count": 7,
   "metadata": {},
   "outputs": [
    {
     "name": "stdout",
     "output_type": "stream",
     "text": [
      "The autoreload extension is already loaded. To reload it, use:\n",
      "  %reload_ext autoreload\n",
      "300\n"
     ]
    }
   ],
   "source": [
    "import cv2\n",
    "from util import plot_images, read_images\n",
    "from preprocessing import preprocess_image\n",
    "import numpy as np\n",
    "%load_ext autoreload\n",
    "%autoreload 2\n",
    "\n",
    "test_malignant_folder_path = \"data/test/malignant\"\n",
    "\n",
    "test_malignants = read_images(test_malignant_folder_path)\n",
    "\n",
    "preprocessed_image_test_malignants = [preprocess_image(image) for image in test_malignants]\n",
    "\n",
    "print(preprocessed_image_test_malignants.__len__())\n",
    "\n",
    "# save preprocessed images\n",
    "for i, image in enumerate(preprocessed_image_test_malignants):\n",
    "    cv2.imwrite(\"data/preprocessed/test/malignant/{}.jpg\".format(i), image)"
   ]
  }
 ],
 "metadata": {
  "kernelspec": {
   "display_name": "base",
   "language": "python",
   "name": "python3"
  },
  "language_info": {
   "codemirror_mode": {
    "name": "ipython",
    "version": 3
   },
   "file_extension": ".py",
   "mimetype": "text/x-python",
   "name": "python",
   "nbconvert_exporter": "python",
   "pygments_lexer": "ipython3",
   "version": "3.10.13"
  }
 },
 "nbformat": 4,
 "nbformat_minor": 2
}
